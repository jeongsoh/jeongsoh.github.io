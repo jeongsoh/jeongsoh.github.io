{
 "cells": [
  {
   "cell_type": "markdown",
   "metadata": {},
   "source": [
    "4.5 오토인코더"
   ]
  },
  {
   "cell_type": "code",
   "execution_count": 1,
   "metadata": {},
   "outputs": [],
   "source": [
    "import tensorflow.keras\n",
    "from tensorflow.keras import optimizers, losses, regularizers\n",
    "from tensorflow.keras.models import Sequential, Model\n",
    "from tensorflow.keras.layers import Dense, Input, Dropout, LSTM\n",
    "from tensorflow.keras.optimizers import RMSprop, Adam, Nadam\n",
    "from tensorflow.keras.callbacks import TensorBoard\n",
    "\n",
    "import sklearn\n",
    "from sklearn.model_selection import train_test_split\n",
    "from sklearn.metrics import confusion_matrix, roc_auc_score, classification_report\n",
    "from sklearn.preprocessing import LabelEncoder, OneHotEncoder, MinMaxScaler\n",
    "from sklearn.manifold import TSNE\n",
    "\n",
    "import seaborn as sns\n",
    "import pandas as pd\n",
    "import numpy as np\n",
    "import matplotlib\n",
    "import matplotlib.pyplot as plt\n",
    "import matplotlib.gridspec as gridspec\n",
    "#%matplotlib inline\n",
    "import tensorflow \n",
    "import sys"
   ]
  },
  {
   "cell_type": "markdown",
   "metadata": {},
   "source": [
    "오토인코더 시각화"
   ]
  },
  {
   "cell_type": "code",
   "execution_count": 2,
   "metadata": {},
   "outputs": [],
   "source": [
    "labels = [\"normal\", \"anomaly\"]\n",
    "# 실제 및 예측 라벨\n",
    "def draw_confusion_matrix(y, ypred):\n",
    "    matrix = confusion_matrix(y, ypred)\n",
    "    plt.figure(figsize=(10, 8))\n",
    "    colors=[ \"orange\",\"green\"]\n",
    "    #sns.heatmap(matrix, xticklabels=self.labels, yticklabels=self.labels, cmap=colors, annot=True, fmt=\"d\")\n",
    "    sns.heatmap(matrix, xticklabels=labels, yticklabels=labels, cmap=colors, annot=True, fmt=\"d\")\n",
    "    plt.title(\"Confusion Matrix\")\n",
    "    plt.ylabel('Actual')\n",
    "    plt.xlabel('Predicted')\n",
    "    plt.show()\n",
    "    \n",
    "# reconstruction error에 따른 anomaly \n",
    "def draw_anomaly(y, error, threshold):\n",
    "    groupsDF = pd.DataFrame({'error': error, 'true': y}).groupby('true')\n",
    "    figure, axes = plt.subplots(figsize=(12, 8))\n",
    "    for name, group in groupsDF:\n",
    "        axes.plot(group.index, group.error, marker='x' if name == 1 else 'o', linestyle='',\\\n",
    "            color='r' if name == 1 else 'g', label=\"anomaly\" if name == 1 else \"normal\")\n",
    "    axes.hlines(threshold, axes.get_xlim()[0], axes.get_xlim()[1], colors=\"b\", zorder=100, label='Threshold')\n",
    "    axes.legend()\n",
    "        \n",
    "    plt.title(\"Anomalies\")\n",
    "    plt.ylabel(\"ReconstructionError\")\n",
    "    plt.xlabel(\"AMI Meter\")\n",
    "    plt.show()\n",
    "    \n",
    "# 데이터 포인트들의 reconstruction error\n",
    "def draw_error(error, threshold):\n",
    "    plt.plot(error, marker='o', ms=3.5, linestyle='', label='Point')\n",
    "    plt.hlines(threshold, xmin=0, xmax=len(error)-1, colors=\"b\", zorder=100, label='Threshold')\n",
    "    plt.legend()\n",
    "    plt.title(\"Reconstruction error\")\n",
    "    plt.ylabel(\"Error\")\n",
    "    plt.xlabel(\"Data\")\n",
    "    plt.show()"
   ]
  },
  {
   "cell_type": "code",
   "execution_count": 3,
   "metadata": {},
   "outputs": [],
   "source": [
    "from pyspark.sql import SparkSession\n",
    "from pyspark.sql import functions as Fn\n",
    "from pyspark.sql.functions import when, col\n",
    "\n",
    "spark = SparkSession.builder.getOrCreate()\n",
    "\n",
    "data = spark.read.orc(\"hdfs://nameserver/apps/spark/warehouse/cs_oneH_features\")"
   ]
  },
  {
   "cell_type": "code",
   "execution_count": 4,
   "metadata": {},
   "outputs": [],
   "source": [
    "df = data.toPandas()"
   ]
  },
  {
   "cell_type": "code",
   "execution_count": 5,
   "metadata": {},
   "outputs": [
    {
     "name": "stdout",
     "output_type": "stream",
     "text": [
      "<class 'pandas.core.frame.DataFrame'>\n",
      "RangeIndex: 135 entries, 0 to 134\n",
      "Columns: 5786 entries, LP_METER_ID to daily_202008022300\n",
      "dtypes: float64(5784), object(2)\n",
      "memory usage: 6.0+ MB\n"
     ]
    }
   ],
   "source": [
    "# 241 days, meter_id, dcu_id, 24 x 241 = 5784 coluimns -> 5786 columns\n",
    "df.info()"
   ]
  },
  {
   "cell_type": "code",
   "execution_count": 6,
   "metadata": {},
   "outputs": [
    {
     "data": {
      "text/plain": [
       "False"
      ]
     },
     "execution_count": 6,
     "metadata": {},
     "output_type": "execute_result"
    }
   ],
   "source": [
    "df.isnull().values.any()"
   ]
  },
  {
   "cell_type": "code",
   "execution_count": 7,
   "metadata": {},
   "outputs": [
    {
     "data": {
      "text/plain": [
       "(135, 5784)"
      ]
     },
     "execution_count": 7,
     "metadata": {},
     "output_type": "execute_result"
    }
   ],
   "source": [
    "t = df.iloc[:,2:]\n",
    "t.shape"
   ]
  },
  {
   "cell_type": "code",
   "execution_count": 10,
   "metadata": {},
   "outputs": [
    {
     "data": {
      "text/plain": [
       "(135, 241, 24)"
      ]
     },
     "execution_count": 10,
     "metadata": {},
     "output_type": "execute_result"
    }
   ],
   "source": [
    "tt = t.values.reshape((135, 5784 // 24, 24))\n",
    "tt.shape"
   ]
  },
  {
   "cell_type": "code",
   "execution_count": 12,
   "metadata": {},
   "outputs": [
    {
     "data": {
      "text/plain": [
       "array([[[0.97900391, 0.84912109, 0.85400391, ..., 1.04589844,\n",
       "         0.94287109, 0.93603516],\n",
       "        [0.87695312, 0.86523438, 0.82470703, ..., 0.84570312,\n",
       "         0.97900391, 0.82617188],\n",
       "        [0.76318359, 0.75195312, 0.72998047, ..., 1.01513672,\n",
       "         0.86914062, 0.84472656],\n",
       "        ...,\n",
       "        [1.16308594, 1.015625  , 0.91210938, ..., 1.12988281,\n",
       "         1.04980469, 1.03125   ],\n",
       "        [0.91894531, 0.90332031, 0.90527344, ..., 1.60644531,\n",
       "         1.08007812, 1.04394531],\n",
       "        [0.98339844, 0.96582031, 0.93359375, ..., 1.2109375 ,\n",
       "         1.0625    , 1.02929688]]])"
      ]
     },
     "execution_count": 12,
     "metadata": {},
     "output_type": "execute_result"
    }
   ],
   "source": [
    "tt[:1]"
   ]
  },
  {
   "cell_type": "code",
   "execution_count": 30,
   "metadata": {},
   "outputs": [
    {
     "data": {
      "text/html": [
       "<div>\n",
       "<style scoped>\n",
       "    .dataframe tbody tr th:only-of-type {\n",
       "        vertical-align: middle;\n",
       "    }\n",
       "\n",
       "    .dataframe tbody tr th {\n",
       "        vertical-align: top;\n",
       "    }\n",
       "\n",
       "    .dataframe thead th {\n",
       "        text-align: right;\n",
       "    }\n",
       "</style>\n",
       "<table border=\"1\" class=\"dataframe\">\n",
       "  <thead>\n",
       "    <tr style=\"text-align: right;\">\n",
       "      <th></th>\n",
       "      <th>daily_201912060000</th>\n",
       "      <th>daily_201912060100</th>\n",
       "      <th>daily_201912060200</th>\n",
       "      <th>daily_201912060300</th>\n",
       "      <th>daily_201912060400</th>\n",
       "      <th>daily_201912060500</th>\n",
       "      <th>daily_201912060600</th>\n",
       "      <th>daily_201912060700</th>\n",
       "      <th>daily_201912060800</th>\n",
       "      <th>daily_201912060900</th>\n",
       "      <th>...</th>\n",
       "      <th>daily_202008021400</th>\n",
       "      <th>daily_202008021500</th>\n",
       "      <th>daily_202008021600</th>\n",
       "      <th>daily_202008021700</th>\n",
       "      <th>daily_202008021800</th>\n",
       "      <th>daily_202008021900</th>\n",
       "      <th>daily_202008022000</th>\n",
       "      <th>daily_202008022100</th>\n",
       "      <th>daily_202008022200</th>\n",
       "      <th>daily_202008022300</th>\n",
       "    </tr>\n",
       "  </thead>\n",
       "  <tbody>\n",
       "    <tr>\n",
       "      <th>0</th>\n",
       "      <td>0.979004</td>\n",
       "      <td>0.849121</td>\n",
       "      <td>0.854004</td>\n",
       "      <td>0.803223</td>\n",
       "      <td>0.773926</td>\n",
       "      <td>0.769043</td>\n",
       "      <td>0.344727</td>\n",
       "      <td>0.423340</td>\n",
       "      <td>0.271973</td>\n",
       "      <td>0.252930</td>\n",
       "      <td>...</td>\n",
       "      <td>0.382812</td>\n",
       "      <td>0.388672</td>\n",
       "      <td>0.392578</td>\n",
       "      <td>0.470703</td>\n",
       "      <td>0.960938</td>\n",
       "      <td>1.142578</td>\n",
       "      <td>1.167969</td>\n",
       "      <td>1.210938</td>\n",
       "      <td>1.062500</td>\n",
       "      <td>1.029297</td>\n",
       "    </tr>\n",
       "    <tr>\n",
       "      <th>1</th>\n",
       "      <td>0.098999</td>\n",
       "      <td>0.125977</td>\n",
       "      <td>0.119995</td>\n",
       "      <td>0.140991</td>\n",
       "      <td>0.174011</td>\n",
       "      <td>0.101013</td>\n",
       "      <td>0.041992</td>\n",
       "      <td>0.031982</td>\n",
       "      <td>0.048035</td>\n",
       "      <td>0.023987</td>\n",
       "      <td>...</td>\n",
       "      <td>0.024902</td>\n",
       "      <td>0.025024</td>\n",
       "      <td>0.024048</td>\n",
       "      <td>0.025024</td>\n",
       "      <td>0.023926</td>\n",
       "      <td>0.020996</td>\n",
       "      <td>0.019043</td>\n",
       "      <td>0.022949</td>\n",
       "      <td>0.024048</td>\n",
       "      <td>0.025024</td>\n",
       "    </tr>\n",
       "    <tr>\n",
       "      <th>2</th>\n",
       "      <td>0.252197</td>\n",
       "      <td>0.218994</td>\n",
       "      <td>0.179932</td>\n",
       "      <td>0.156006</td>\n",
       "      <td>0.144043</td>\n",
       "      <td>0.358887</td>\n",
       "      <td>0.272949</td>\n",
       "      <td>0.127197</td>\n",
       "      <td>0.131836</td>\n",
       "      <td>0.156982</td>\n",
       "      <td>...</td>\n",
       "      <td>0.114258</td>\n",
       "      <td>0.102051</td>\n",
       "      <td>0.202637</td>\n",
       "      <td>0.181152</td>\n",
       "      <td>0.241211</td>\n",
       "      <td>0.198730</td>\n",
       "      <td>0.185059</td>\n",
       "      <td>0.256836</td>\n",
       "      <td>0.736328</td>\n",
       "      <td>0.898926</td>\n",
       "    </tr>\n",
       "    <tr>\n",
       "      <th>3</th>\n",
       "      <td>0.443848</td>\n",
       "      <td>0.444824</td>\n",
       "      <td>0.444336</td>\n",
       "      <td>0.452637</td>\n",
       "      <td>0.533203</td>\n",
       "      <td>0.513184</td>\n",
       "      <td>0.379883</td>\n",
       "      <td>0.337891</td>\n",
       "      <td>0.335938</td>\n",
       "      <td>0.475098</td>\n",
       "      <td>...</td>\n",
       "      <td>0.437012</td>\n",
       "      <td>0.300293</td>\n",
       "      <td>0.313965</td>\n",
       "      <td>0.359863</td>\n",
       "      <td>0.393066</td>\n",
       "      <td>0.419922</td>\n",
       "      <td>0.394043</td>\n",
       "      <td>0.443848</td>\n",
       "      <td>0.406250</td>\n",
       "      <td>0.409180</td>\n",
       "    </tr>\n",
       "    <tr>\n",
       "      <th>4</th>\n",
       "      <td>0.876953</td>\n",
       "      <td>0.808105</td>\n",
       "      <td>0.836914</td>\n",
       "      <td>0.839844</td>\n",
       "      <td>0.799316</td>\n",
       "      <td>0.661133</td>\n",
       "      <td>0.607910</td>\n",
       "      <td>0.601074</td>\n",
       "      <td>0.529785</td>\n",
       "      <td>0.469238</td>\n",
       "      <td>...</td>\n",
       "      <td>0.336914</td>\n",
       "      <td>0.347656</td>\n",
       "      <td>0.580078</td>\n",
       "      <td>1.141602</td>\n",
       "      <td>1.082031</td>\n",
       "      <td>1.081055</td>\n",
       "      <td>1.087891</td>\n",
       "      <td>1.052734</td>\n",
       "      <td>1.042969</td>\n",
       "      <td>1.057617</td>\n",
       "    </tr>\n",
       "  </tbody>\n",
       "</table>\n",
       "<p>5 rows × 5784 columns</p>\n",
       "</div>"
      ],
      "text/plain": [
       "   daily_201912060000  daily_201912060100  daily_201912060200  \\\n",
       "0            0.979004            0.849121            0.854004   \n",
       "1            0.098999            0.125977            0.119995   \n",
       "2            0.252197            0.218994            0.179932   \n",
       "3            0.443848            0.444824            0.444336   \n",
       "4            0.876953            0.808105            0.836914   \n",
       "\n",
       "   daily_201912060300  daily_201912060400  daily_201912060500  \\\n",
       "0            0.803223            0.773926            0.769043   \n",
       "1            0.140991            0.174011            0.101013   \n",
       "2            0.156006            0.144043            0.358887   \n",
       "3            0.452637            0.533203            0.513184   \n",
       "4            0.839844            0.799316            0.661133   \n",
       "\n",
       "   daily_201912060600  daily_201912060700  daily_201912060800  \\\n",
       "0            0.344727            0.423340            0.271973   \n",
       "1            0.041992            0.031982            0.048035   \n",
       "2            0.272949            0.127197            0.131836   \n",
       "3            0.379883            0.337891            0.335938   \n",
       "4            0.607910            0.601074            0.529785   \n",
       "\n",
       "   daily_201912060900  ...  daily_202008021400  daily_202008021500  \\\n",
       "0            0.252930  ...            0.382812            0.388672   \n",
       "1            0.023987  ...            0.024902            0.025024   \n",
       "2            0.156982  ...            0.114258            0.102051   \n",
       "3            0.475098  ...            0.437012            0.300293   \n",
       "4            0.469238  ...            0.336914            0.347656   \n",
       "\n",
       "   daily_202008021600  daily_202008021700  daily_202008021800  \\\n",
       "0            0.392578            0.470703            0.960938   \n",
       "1            0.024048            0.025024            0.023926   \n",
       "2            0.202637            0.181152            0.241211   \n",
       "3            0.313965            0.359863            0.393066   \n",
       "4            0.580078            1.141602            1.082031   \n",
       "\n",
       "   daily_202008021900  daily_202008022000  daily_202008022100  \\\n",
       "0            1.142578            1.167969            1.210938   \n",
       "1            0.020996            0.019043            0.022949   \n",
       "2            0.198730            0.185059            0.256836   \n",
       "3            0.419922            0.394043            0.443848   \n",
       "4            1.081055            1.087891            1.052734   \n",
       "\n",
       "   daily_202008022200  daily_202008022300  \n",
       "0            1.062500            1.029297  \n",
       "1            0.024048            0.025024  \n",
       "2            0.736328            0.898926  \n",
       "3            0.406250            0.409180  \n",
       "4            1.042969            1.057617  \n",
       "\n",
       "[5 rows x 5784 columns]"
      ]
     },
     "execution_count": 30,
     "metadata": {},
     "output_type": "execute_result"
    }
   ],
   "source": [
    "t = df.iloc[:, 2:]\n",
    "t.head()\n",
    "#te = np.array(np.split(df.iloc[:,2:], df.iloc[:,2:].shape[1]/ 24, axis=1))\n",
    "#te.shape"
   ]
  },
  {
   "cell_type": "code",
   "execution_count": 49,
   "metadata": {},
   "outputs": [],
   "source": [
    "te = np.hsplit(t, 241)"
   ]
  },
  {
   "cell_type": "code",
   "execution_count": 51,
   "metadata": {},
   "outputs": [
    {
     "data": {
      "text/plain": [
       "(135, 24)"
      ]
     },
     "execution_count": 51,
     "metadata": {},
     "output_type": "execute_result"
    }
   ],
   "source": [
    "te[0].shape"
   ]
  },
  {
   "cell_type": "code",
   "execution_count": null,
   "metadata": {},
   "outputs": [],
   "source": []
  },
  {
   "cell_type": "code",
   "execution_count": 18,
   "metadata": {},
   "outputs": [],
   "source": [
    "# 특징 데이터셋과 범주형 컬럼 특징 처리 - 동일\n",
    "from pyspark.sql import SparkSession\n",
    "from pyspark.sql import functions as Fn\n",
    "from pyspark.sql.functions import when, col\n",
    "\n",
    "spark = SparkSession.builder.getOrCreate()\n",
    "\n",
    "data = spark.read.orc(\"hdfs://nameserver/apps/spark/warehouse/cs_daily_features\")\n",
    "df = data.toPandas()\n",
    "\n",
    "from sklearn.preprocessing import LabelEncoder, OneHotEncoder, StandardScaler, MinMaxScaler\n",
    "\n",
    "# 학습 입력 컬럼\n",
    "input_cols = df.columns[2:].tolist()\n",
    "dcu_cols = df.columns[1]\n",
    "\n",
    "# DCU ID를 Integer 라벨로 변환\n",
    "le = LabelEncoder()\n",
    "le.fit(df[dcu_cols])\n",
    "df[\"dcu_label\"] = le.transform(df[dcu_cols])\n",
    "\n",
    "# Integer 라벨을 이진 벡터로 표현\n",
    "ohe = OneHotEncoder()\n",
    "x = ohe.fit_transform(df.dcu_label.values.reshape(-1,1)).toarray()\n",
    "dfOneHot = pd.DataFrame(x, columns = [\"dcu_\"+str(int(i)) for i in range(x.shape[1])]) \n",
    "df = pd.concat([df, dfOneHot], axis=1)\n",
    "\n",
    "# 데이터 정규화\n",
    "scaler = MinMaxScaler()\n",
    "scaler.fit(df[input_cols])\n",
    "df[input_cols]= scaler.transform(df[input_cols])\n",
    "\n",
    "# one hot encoded columns 추가\n",
    "input_cols.extend(dfOneHot.columns)"
   ]
  },
  {
   "cell_type": "code",
   "execution_count": null,
   "metadata": {},
   "outputs": [],
   "source": [
    "\"\"\"\n",
    "    2019년 12월 8일 ~ 2020년 8월 1일 일/월/화/수/목/금/토\n",
    "    첫 번째 데이터셋을 20191208draw_confusion_matrix(df[\"anomalies\"], df[\"label\"]) ~ 20200406, 17주 (119일)\n",
    "    두 번째 데이터셋을 20200405 ~ 20200801, 17주 (119일)\n",
    "\"\"\""
   ]
  },
  {
   "cell_type": "markdown",
   "metadata": {},
   "source": [
    "전력 사용 이상 미터 라벨링 - Isolation Forest (Spark & Scikit-learn) & DBSCAN NTL Results"
   ]
  },
  {
   "cell_type": "code",
   "execution_count": 19,
   "metadata": {},
   "outputs": [
    {
     "name": "stdout",
     "output_type": "stream",
     "text": [
      "['99260000364', '99260000214', '99260000390', '99260000322', '99260000446', '99260000127', '99260000268', '99260000188', '99260000106', '99260000014', '99260000478', '99260000191', '99260000361']\n",
      "['99260000214', '99260000321', '99260000390', '99260000322', '99260000127', '99260000268', '99260000147', '99260000188', '99260000106', '99260000014', '99260000478', '99260000191', '99260000361']\n"
     ]
    }
   ],
   "source": [
    "print(anomaly_id_list_spark_if)\n",
    "print(anomaly_id_list_sklearn_if)\n",
    "print(anomaly_id_list_dbscan)"
   ]
  },
  {
   "cell_type": "code",
   "execution_count": 21,
   "metadata": {},
   "outputs": [
    {
     "data": {
      "text/plain": [
       "4     99260000364\n",
       "6     99260000214\n",
       "22    99260000321\n",
       "29    99260000390\n",
       "46    99260000322\n",
       "58    99260000446\n",
       "61    99260000127\n",
       "63    99260000268\n",
       "67    99260000147\n",
       "73    99260000188\n",
       "77    99260000106\n",
       "80    99260000014\n",
       "87    99260000478\n",
       "89    99260000191\n",
       "90    99260000361\n",
       "Name: LP_METER_ID, dtype: object"
      ]
     },
     "execution_count": 21,
     "metadata": {},
     "output_type": "execute_result"
    }
   ],
   "source": [
    "anomaly_id_list_spark_if = ['99260000364', '99260000214', '99260000390', '99260000322', '99260000446', '99260000127', '99260000268', '99260000188', '99260000106', '99260000014', '99260000478', '99260000191', '99260000361']\n",
    "anomaly_id_list_sklearn_if = ['99260000214', '99260000321', '99260000390', '99260000322', '99260000127', '99260000268', '99260000147', '99260000188', '99260000106', '99260000014', '99260000478', '99260000191', '99260000361']\n",
    "anomaly_id_list_dbscan = ['99260000364', '99260000214', '99260000321', '99260000390', '99260000322', '99260000268', '99260000147', '99260000188', '99260000106', '99260000014', '99260000478', '99260000191', '99260000361']\n",
    "anomaly_id_list = list(set(anomaly_id_list_spark_if + anomaly_id_list_sklearn_if + anomaly_id_list_dbscan))\n",
    "y_anomalies = []\n",
    "for id in df.LP_METER_ID.values.tolist():\n",
    "    if id in anomaly_id_list:\n",
    "        y_anomalies.append(1)\n",
    "    else: y_anomalies.append(0)\n",
    "df[\"anomalies\"] = y_anomalies\n",
    "df[\"LP_METER_ID\"][df[\"anomalies\"]==1]"
   ]
  },
  {
   "cell_type": "markdown",
   "metadata": {},
   "source": [
    "미터의 미터별 일별 사용량 + DCU ID 특징 데이터셋을 train 및 test로 분리\n",
    "전력 사용 이상으로 라벨링된 df[\"anomalies\"]를 향후 오토인코더 성능 평가에 활용"
   ]
  },
  {
   "cell_type": "code",
   "execution_count": 22,
   "metadata": {},
   "outputs": [
    {
     "name": "stdout",
     "output_type": "stream",
     "text": [
      "(108, 246) train samples\n",
      "(27, 246) test samples\n"
     ]
    }
   ],
   "source": [
    "x_train, x_test, y_train, y_test = train_test_split(df[input_cols], df[\"anomalies\"], test_size=0.2, random_state=42)\n",
    "print(x_train.shape, 'train samples')\n",
    "print(x_test.shape, 'test samples')"
   ]
  },
  {
   "cell_type": "code",
   "execution_count": 23,
   "metadata": {},
   "outputs": [
    {
     "ename": "SyntaxError",
     "evalue": "invalid syntax (<ipython-input-23-941393b089a3>, line 1)",
     "output_type": "error",
     "traceback": [
      "\u001b[0;36m  File \u001b[0;32m\"<ipython-input-23-941393b089a3>\"\u001b[0;36m, line \u001b[0;32m1\u001b[0m\n\u001b[0;31m    딥 오토인코더 모델\u001b[0m\n\u001b[0m          ^\u001b[0m\n\u001b[0;31mSyntaxError\u001b[0m\u001b[0;31m:\u001b[0m invalid syntax\n"
     ]
    }
   ],
   "source": [
    "딥 오토인코더 모델\n",
    "tensorboard --logdir=/home/ambari/anomaly_detection/deepautoencoder"
   ]
  },
  {
   "cell_type": "code",
   "execution_count": 26,
   "metadata": {
    "scrolled": true
   },
   "outputs": [
    {
     "name": "stdout",
     "output_type": "stream",
     "text": [
      "Model: \"model\"\n",
      "_________________________________________________________________\n",
      "Layer (type)                 Output Shape              Param #   \n",
      "=================================================================\n",
      "input_1 (InputLayer)         [(None, 246)]             0         \n",
      "_________________________________________________________________\n",
      "dense (Dense)                (None, 28)                6916      \n",
      "_________________________________________________________________\n",
      "dense_1 (Dense)              (None, 14)                406       \n",
      "_________________________________________________________________\n",
      "dense_2 (Dense)              (None, 7)                 105       \n",
      "_________________________________________________________________\n",
      "dense_3 (Dense)              (None, 14)                112       \n",
      "_________________________________________________________________\n",
      "dense_4 (Dense)              (None, 28)                420       \n",
      "_________________________________________________________________\n",
      "dense_5 (Dense)              (None, 246)               7134      \n",
      "=================================================================\n",
      "Total params: 15,093\n",
      "Trainable params: 15,093\n",
      "Non-trainable params: 0\n",
      "_________________________________________________________________\n"
     ]
    }
   ],
   "source": [
    "logfilename = \"deepautoencoder\"\n",
    "\n",
    "encoding_dim = 28\n",
    "input_dim = x_train.shape[1]\n",
    "\n",
    "inputs = Input(shape=(input_dim,))\n",
    "encoded = Dense(encoding_dim, activation='relu')(inputs)\n",
    "encoded = Dense(encoding_dim // 2, activation='relu')(encoded)\n",
    "encoded = Dense(encoding_dim // 4, activation='relu')(encoded)\n",
    "\n",
    "decoded = Dense(encoding_dim // 2, activation='relu')(encoded)\n",
    "decoded = Dense(encoding_dim, activation='relu')(decoded)\n",
    "decoded = Dense(input_dim, activation='softmax')(decoded)\n",
    "\n",
    "autoencoder = Model(inputs, decoded)\n",
    "autoencoder.summary()"
   ]
  },
  {
   "cell_type": "code",
   "execution_count": 27,
   "metadata": {},
   "outputs": [
    {
     "name": "stdout",
     "output_type": "stream",
     "text": [
      "Train on 97 samples, validate on 11 samples\n",
      "Epoch 1/100\n",
      "97/97 [==============================] - 2s 22ms/sample - loss: 0.1104 - mae: 0.2584 - accuracy: 0.0000e+00 - val_loss: 0.0405 - val_mae: 0.1679 - val_accuracy: 0.0000e+00\n",
      "Epoch 2/100\n",
      "97/97 [==============================] - 0s 5ms/sample - loss: 0.1104 - mae: 0.2584 - accuracy: 0.0000e+00 - val_loss: 0.0405 - val_mae: 0.1678 - val_accuracy: 0.0000e+00\n",
      "Epoch 3/100\n",
      "97/97 [==============================] - 1s 5ms/sample - loss: 0.1104 - mae: 0.2583 - accuracy: 0.0000e+00 - val_loss: 0.0404 - val_mae: 0.1678 - val_accuracy: 0.0000e+00\n",
      "Epoch 4/100\n",
      "97/97 [==============================] - 1s 8ms/sample - loss: 0.1103 - mae: 0.2583 - accuracy: 0.0000e+00 - val_loss: 0.0404 - val_mae: 0.1678 - val_accuracy: 0.0000e+00\n",
      "Epoch 5/100\n",
      "97/97 [==============================] - 0s 5ms/sample - loss: 0.1103 - mae: 0.2583 - accuracy: 0.0000e+00 - val_loss: 0.0404 - val_mae: 0.1678 - val_accuracy: 0.0000e+00\n",
      "Epoch 6/100\n",
      "97/97 [==============================] - 0s 2ms/sample - loss: 0.1103 - mae: 0.2583 - accuracy: 0.0000e+00 - val_loss: 0.0404 - val_mae: 0.1678 - val_accuracy: 0.0000e+00\n",
      "Epoch 7/100\n",
      "97/97 [==============================] - 0s 1ms/sample - loss: 0.1103 - mae: 0.2583 - accuracy: 0.0000e+00 - val_loss: 0.0404 - val_mae: 0.1678 - val_accuracy: 0.0000e+00\n",
      "Epoch 8/100\n",
      "97/97 [==============================] - 0s 1ms/sample - loss: 0.1102 - mae: 0.2583 - accuracy: 0.0000e+00 - val_loss: 0.0404 - val_mae: 0.1678 - val_accuracy: 0.0000e+00\n",
      "Epoch 9/100\n",
      "97/97 [==============================] - 0s 1ms/sample - loss: 0.1102 - mae: 0.2583 - accuracy: 0.0000e+00 - val_loss: 0.0404 - val_mae: 0.1678 - val_accuracy: 0.0000e+00\n",
      "Epoch 10/100\n",
      "97/97 [==============================] - 0s 2ms/sample - loss: 0.1102 - mae: 0.2583 - accuracy: 0.0000e+00 - val_loss: 0.0404 - val_mae: 0.1678 - val_accuracy: 0.0000e+00\n",
      "Epoch 11/100\n",
      "97/97 [==============================] - 0s 2ms/sample - loss: 0.1102 - mae: 0.2583 - accuracy: 0.0000e+00 - val_loss: 0.0404 - val_mae: 0.1678 - val_accuracy: 0.0000e+00\n",
      "Epoch 12/100\n",
      "97/97 [==============================] - 0s 1ms/sample - loss: 0.1102 - mae: 0.2583 - accuracy: 0.0000e+00 - val_loss: 0.0404 - val_mae: 0.1678 - val_accuracy: 0.0000e+00\n",
      "Epoch 13/100\n",
      "97/97 [==============================] - 0s 2ms/sample - loss: 0.1102 - mae: 0.2584 - accuracy: 0.0000e+00 - val_loss: 0.0404 - val_mae: 0.1679 - val_accuracy: 0.0000e+00\n",
      "Epoch 14/100\n",
      "97/97 [==============================] - 0s 2ms/sample - loss: 0.1102 - mae: 0.2584 - accuracy: 0.0000e+00 - val_loss: 0.0404 - val_mae: 0.1679 - val_accuracy: 0.0000e+00\n",
      "Epoch 15/100\n",
      "97/97 [==============================] - 0s 2ms/sample - loss: 0.1102 - mae: 0.2584 - accuracy: 0.0000e+00 - val_loss: 0.0404 - val_mae: 0.1679 - val_accuracy: 0.0000e+00\n",
      "Epoch 16/100\n",
      "97/97 [==============================] - 0s 1ms/sample - loss: 0.1102 - mae: 0.2584 - accuracy: 0.0000e+00 - val_loss: 0.0404 - val_mae: 0.1679 - val_accuracy: 0.0000e+00\n",
      "Epoch 17/100\n",
      "97/97 [==============================] - 0s 2ms/sample - loss: 0.1102 - mae: 0.2584 - accuracy: 0.0000e+00 - val_loss: 0.0403 - val_mae: 0.1679 - val_accuracy: 0.0000e+00\n",
      "Epoch 18/100\n",
      "97/97 [==============================] - 0s 3ms/sample - loss: 0.1102 - mae: 0.2584 - accuracy: 0.0206 - val_loss: 0.0403 - val_mae: 0.1679 - val_accuracy: 0.0000e+00\n",
      "Epoch 19/100\n",
      "97/97 [==============================] - 0s 1ms/sample - loss: 0.1102 - mae: 0.2584 - accuracy: 0.0103 - val_loss: 0.0403 - val_mae: 0.1679 - val_accuracy: 0.0909\n",
      "Epoch 20/100\n",
      "97/97 [==============================] - 0s 3ms/sample - loss: 0.1102 - mae: 0.2584 - accuracy: 0.0103 - val_loss: 0.0403 - val_mae: 0.1680 - val_accuracy: 0.1818\n",
      "Epoch 21/100\n",
      "97/97 [==============================] - 1s 5ms/sample - loss: 0.1102 - mae: 0.2585 - accuracy: 0.1443 - val_loss: 0.0403 - val_mae: 0.1680 - val_accuracy: 0.0909\n",
      "Epoch 22/100\n",
      "97/97 [==============================] - 0s 3ms/sample - loss: 0.1102 - mae: 0.2585 - accuracy: 0.0412 - val_loss: 0.0403 - val_mae: 0.1680 - val_accuracy: 0.0909\n",
      "Epoch 23/100\n",
      "97/97 [==============================] - 0s 3ms/sample - loss: 0.1102 - mae: 0.2585 - accuracy: 0.1134 - val_loss: 0.0403 - val_mae: 0.1679 - val_accuracy: 0.0909\n",
      "Epoch 24/100\n",
      "97/97 [==============================] - 0s 3ms/sample - loss: 0.1102 - mae: 0.2584 - accuracy: 0.0103 - val_loss: 0.0403 - val_mae: 0.1680 - val_accuracy: 0.0909\n",
      "Epoch 25/100\n",
      "97/97 [==============================] - 0s 4ms/sample - loss: 0.1101 - mae: 0.2585 - accuracy: 0.0412 - val_loss: 0.0403 - val_mae: 0.1681 - val_accuracy: 0.2727\n",
      "Epoch 26/100\n",
      "97/97 [==============================] - 0s 3ms/sample - loss: 0.1102 - mae: 0.2585 - accuracy: 0.2371 - val_loss: 0.0403 - val_mae: 0.1680 - val_accuracy: 0.0909\n",
      "Epoch 27/100\n",
      "97/97 [==============================] - 0s 1ms/sample - loss: 0.1101 - mae: 0.2585 - accuracy: 0.1134 - val_loss: 0.0403 - val_mae: 0.1680 - val_accuracy: 0.1818\n",
      "Epoch 28/100\n",
      "97/97 [==============================] - 0s 4ms/sample - loss: 0.1101 - mae: 0.2585 - accuracy: 0.1031 - val_loss: 0.0403 - val_mae: 0.1680 - val_accuracy: 0.0909\n",
      "Epoch 29/100\n",
      "97/97 [==============================] - 0s 2ms/sample - loss: 0.1101 - mae: 0.2585 - accuracy: 0.0928 - val_loss: 0.0403 - val_mae: 0.1680 - val_accuracy: 0.0909\n",
      "Epoch 30/100\n",
      "97/97 [==============================] - 0s 2ms/sample - loss: 0.1101 - mae: 0.2585 - accuracy: 0.1546 - val_loss: 0.0403 - val_mae: 0.1682 - val_accuracy: 0.2727\n",
      "Epoch 31/100\n",
      "97/97 [==============================] - 0s 1ms/sample - loss: 0.1101 - mae: 0.2586 - accuracy: 0.2887 - val_loss: 0.0403 - val_mae: 0.1681 - val_accuracy: 0.2727\n",
      "Epoch 32/100\n",
      "97/97 [==============================] - 0s 1ms/sample - loss: 0.1101 - mae: 0.2586 - accuracy: 0.3505 - val_loss: 0.0403 - val_mae: 0.1682 - val_accuracy: 0.2727\n",
      "Epoch 33/100\n",
      "97/97 [==============================] - 0s 836us/sample - loss: 0.1101 - mae: 0.2586 - accuracy: 0.3918 - val_loss: 0.0403 - val_mae: 0.1682 - val_accuracy: 0.2727\n",
      "Epoch 34/100\n",
      "97/97 [==============================] - 0s 2ms/sample - loss: 0.1101 - mae: 0.2587 - accuracy: 0.3505 - val_loss: 0.0403 - val_mae: 0.1682 - val_accuracy: 0.2727\n",
      "Epoch 35/100\n",
      "97/97 [==============================] - 1s 7ms/sample - loss: 0.1101 - mae: 0.2586 - accuracy: 0.4330 - val_loss: 0.0403 - val_mae: 0.1682 - val_accuracy: 0.2727\n",
      "Epoch 36/100\n",
      "97/97 [==============================] - 0s 1ms/sample - loss: 0.1101 - mae: 0.2586 - accuracy: 0.4433 - val_loss: 0.0403 - val_mae: 0.1684 - val_accuracy: 0.2727\n",
      "Epoch 37/100\n",
      "97/97 [==============================] - 0s 2ms/sample - loss: 0.1102 - mae: 0.2587 - accuracy: 0.3608 - val_loss: 0.0402 - val_mae: 0.1682 - val_accuracy: 0.2727\n",
      "Epoch 38/100\n",
      "97/97 [==============================] - 0s 1ms/sample - loss: 0.1101 - mae: 0.2587 - accuracy: 0.4433 - val_loss: 0.0402 - val_mae: 0.1684 - val_accuracy: 0.2727\n",
      "Epoch 39/100\n",
      "97/97 [==============================] - 0s 1ms/sample - loss: 0.1101 - mae: 0.2588 - accuracy: 0.4536 - val_loss: 0.0402 - val_mae: 0.1684 - val_accuracy: 0.2727\n",
      "Epoch 40/100\n",
      "97/97 [==============================] - 0s 786us/sample - loss: 0.1100 - mae: 0.2588 - accuracy: 0.4639 - val_loss: 0.0402 - val_mae: 0.1682 - val_accuracy: 0.1818\n",
      "Epoch 41/100\n",
      "97/97 [==============================] - 0s 2ms/sample - loss: 0.1100 - mae: 0.2587 - accuracy: 0.3505 - val_loss: 0.0402 - val_mae: 0.1685 - val_accuracy: 0.2727\n",
      "Epoch 42/100\n",
      "97/97 [==============================] - 0s 2ms/sample - loss: 0.1100 - mae: 0.2589 - accuracy: 0.4330 - val_loss: 0.0402 - val_mae: 0.1688 - val_accuracy: 0.2727\n",
      "Epoch 43/100\n",
      "97/97 [==============================] - 0s 2ms/sample - loss: 0.1099 - mae: 0.2588 - accuracy: 0.4639 - val_loss: 0.0402 - val_mae: 0.1689 - val_accuracy: 0.2727\n",
      "Epoch 44/100\n",
      "97/97 [==============================] - 0s 1ms/sample - loss: 0.1100 - mae: 0.2590 - accuracy: 0.4639 - val_loss: 0.0402 - val_mae: 0.1689 - val_accuracy: 0.2727\n",
      "Epoch 45/100\n",
      "97/97 [==============================] - 0s 1ms/sample - loss: 0.1099 - mae: 0.2590 - accuracy: 0.4639 - val_loss: 0.0401 - val_mae: 0.1687 - val_accuracy: 0.2727\n",
      "Epoch 46/100\n",
      "97/97 [==============================] - 0s 2ms/sample - loss: 0.1099 - mae: 0.2590 - accuracy: 0.4742 - val_loss: 0.0401 - val_mae: 0.1685 - val_accuracy: 0.2727\n",
      "Epoch 47/100\n",
      "97/97 [==============================] - 0s 1ms/sample - loss: 0.1098 - mae: 0.2589 - accuracy: 0.4639 - val_loss: 0.0402 - val_mae: 0.1692 - val_accuracy: 0.2727\n",
      "Epoch 48/100\n",
      "97/97 [==============================] - 0s 2ms/sample - loss: 0.1098 - mae: 0.2591 - accuracy: 0.4845 - val_loss: 0.0401 - val_mae: 0.1691 - val_accuracy: 0.2727\n",
      "Epoch 49/100\n",
      "97/97 [==============================] - 0s 3ms/sample - loss: 0.1097 - mae: 0.2591 - accuracy: 0.5052 - val_loss: 0.0401 - val_mae: 0.1682 - val_accuracy: 0.3636\n",
      "Epoch 50/100\n",
      "97/97 [==============================] - 0s 2ms/sample - loss: 0.1098 - mae: 0.2587 - accuracy: 0.4433 - val_loss: 0.0401 - val_mae: 0.1683 - val_accuracy: 0.3636\n",
      "Epoch 51/100\n",
      "97/97 [==============================] - 0s 2ms/sample - loss: 0.1097 - mae: 0.2587 - accuracy: 0.4639 - val_loss: 0.0399 - val_mae: 0.1685 - val_accuracy: 0.6364\n",
      "Epoch 52/100\n",
      "97/97 [==============================] - 0s 2ms/sample - loss: 0.1096 - mae: 0.2589 - accuracy: 0.5155 - val_loss: 0.0400 - val_mae: 0.1691 - val_accuracy: 0.2727\n",
      "Epoch 53/100\n",
      "97/97 [==============================] - 0s 2ms/sample - loss: 0.1096 - mae: 0.2591 - accuracy: 0.5876 - val_loss: 0.0398 - val_mae: 0.1684 - val_accuracy: 0.9091\n",
      "Epoch 54/100\n",
      "97/97 [==============================] - 0s 2ms/sample - loss: 0.1095 - mae: 0.2589 - accuracy: 0.7423 - val_loss: 0.0400 - val_mae: 0.1692 - val_accuracy: 0.2727\n",
      "Epoch 55/100\n",
      "97/97 [==============================] - 1s 6ms/sample - loss: 0.1095 - mae: 0.2591 - accuracy: 0.5464 - val_loss: 0.0398 - val_mae: 0.1684 - val_accuracy: 0.3636\n",
      "Epoch 56/100\n",
      "97/97 [==============================] - 0s 4ms/sample - loss: 0.1094 - mae: 0.2588 - accuracy: 0.5155 - val_loss: 0.0397 - val_mae: 0.1686 - val_accuracy: 0.4545\n",
      "Epoch 57/100\n",
      "97/97 [==============================] - 0s 4ms/sample - loss: 0.1093 - mae: 0.2589 - accuracy: 0.6082 - val_loss: 0.0394 - val_mae: 0.1685 - val_accuracy: 0.9091\n",
      "Epoch 58/100\n",
      "97/97 [==============================] - 1s 6ms/sample - loss: 0.1093 - mae: 0.2589 - accuracy: 0.7835 - val_loss: 0.0398 - val_mae: 0.1693 - val_accuracy: 0.2727\n",
      "Epoch 59/100\n",
      "97/97 [==============================] - 1s 7ms/sample - loss: 0.1094 - mae: 0.2591 - accuracy: 0.7113 - val_loss: 0.0393 - val_mae: 0.1685 - val_accuracy: 0.9091\n",
      "Epoch 60/100\n",
      "97/97 [==============================] - 1s 10ms/sample - loss: 0.1091 - mae: 0.2589 - accuracy: 0.8144 - val_loss: 0.0392 - val_mae: 0.1685 - val_accuracy: 0.9091\n",
      "Epoch 61/100\n",
      "97/97 [==============================] - 1s 11ms/sample - loss: 0.1092 - mae: 0.2590 - accuracy: 0.8247 - val_loss: 0.0395 - val_mae: 0.1686 - val_accuracy: 0.8182\n",
      "Epoch 62/100\n",
      "97/97 [==============================] - 1s 8ms/sample - loss: 0.1091 - mae: 0.2588 - accuracy: 0.7835 - val_loss: 0.0393 - val_mae: 0.1684 - val_accuracy: 0.9091\n",
      "Epoch 63/100\n",
      "97/97 [==============================] - 1s 7ms/sample - loss: 0.1091 - mae: 0.2589 - accuracy: 0.7938 - val_loss: 0.0393 - val_mae: 0.1683 - val_accuracy: 0.9091\n",
      "Epoch 64/100\n",
      "97/97 [==============================] - 0s 4ms/sample - loss: 0.1090 - mae: 0.2587 - accuracy: 0.8041 - val_loss: 0.0392 - val_mae: 0.1683 - val_accuracy: 0.9091\n",
      "Epoch 65/100\n",
      "97/97 [==============================] - 1s 7ms/sample - loss: 0.1091 - mae: 0.2588 - accuracy: 0.8144 - val_loss: 0.0391 - val_mae: 0.1683 - val_accuracy: 0.9091\n",
      "Epoch 66/100\n",
      "97/97 [==============================] - 0s 3ms/sample - loss: 0.1090 - mae: 0.2588 - accuracy: 0.8247 - val_loss: 0.0392 - val_mae: 0.1682 - val_accuracy: 0.9091\n",
      "Epoch 67/100\n",
      "97/97 [==============================] - 0s 4ms/sample - loss: 0.1089 - mae: 0.2587 - accuracy: 0.8144 - val_loss: 0.0388 - val_mae: 0.1685 - val_accuracy: 0.9091\n",
      "Epoch 68/100\n",
      "97/97 [==============================] - 1s 8ms/sample - loss: 0.1090 - mae: 0.2589 - accuracy: 0.8144 - val_loss: 0.0387 - val_mae: 0.1684 - val_accuracy: 0.9091\n",
      "Epoch 69/100\n",
      "97/97 [==============================] - 0s 4ms/sample - loss: 0.1091 - mae: 0.2589 - accuracy: 0.8041 - val_loss: 0.0388 - val_mae: 0.1682 - val_accuracy: 0.9091\n",
      "Epoch 70/100\n",
      "97/97 [==============================] - 0s 922us/sample - loss: 0.1089 - mae: 0.2588 - accuracy: 0.8144 - val_loss: 0.0389 - val_mae: 0.1682 - val_accuracy: 0.9091\n",
      "Epoch 71/100\n",
      "97/97 [==============================] - 1s 7ms/sample - loss: 0.1089 - mae: 0.2587 - accuracy: 0.8144 - val_loss: 0.0386 - val_mae: 0.1683 - val_accuracy: 0.9091\n",
      "Epoch 72/100\n",
      "97/97 [==============================] - 0s 5ms/sample - loss: 0.1088 - mae: 0.2588 - accuracy: 0.8351 - val_loss: 0.0394 - val_mae: 0.1684 - val_accuracy: 0.7273\n",
      "Epoch 73/100\n",
      "97/97 [==============================] - 1s 7ms/sample - loss: 0.1090 - mae: 0.2586 - accuracy: 0.7216 - val_loss: 0.0389 - val_mae: 0.1681 - val_accuracy: 0.9091\n",
      "Epoch 74/100\n",
      "97/97 [==============================] - 0s 4ms/sample - loss: 0.1088 - mae: 0.2587 - accuracy: 0.8247 - val_loss: 0.0385 - val_mae: 0.1683 - val_accuracy: 0.9091\n",
      "Epoch 75/100\n",
      "97/97 [==============================] - 0s 3ms/sample - loss: 0.1088 - mae: 0.2587 - accuracy: 0.8144 - val_loss: 0.0384 - val_mae: 0.1683 - val_accuracy: 0.9091\n",
      "Epoch 76/100\n",
      "97/97 [==============================] - 0s 5ms/sample - loss: 0.1088 - mae: 0.2587 - accuracy: 0.8351 - val_loss: 0.0385 - val_mae: 0.1681 - val_accuracy: 0.9091\n",
      "Epoch 77/100\n",
      "97/97 [==============================] - 1s 7ms/sample - loss: 0.1087 - mae: 0.2587 - accuracy: 0.8247 - val_loss: 0.0392 - val_mae: 0.1682 - val_accuracy: 0.7273\n",
      "Epoch 78/100\n",
      "97/97 [==============================] - 1s 7ms/sample - loss: 0.1088 - mae: 0.2586 - accuracy: 0.7320 - val_loss: 0.0383 - val_mae: 0.1682 - val_accuracy: 0.9091\n",
      "Epoch 79/100\n",
      "97/97 [==============================] - 1s 6ms/sample - loss: 0.1087 - mae: 0.2587 - accuracy: 0.8351 - val_loss: 0.0383 - val_mae: 0.1681 - val_accuracy: 0.9091\n",
      "Epoch 80/100\n",
      "97/97 [==============================] - 0s 4ms/sample - loss: 0.1085 - mae: 0.2586 - accuracy: 0.8351 - val_loss: 0.0383 - val_mae: 0.1680 - val_accuracy: 0.9091\n",
      "Epoch 81/100\n",
      "97/97 [==============================] - 1s 5ms/sample - loss: 0.1085 - mae: 0.2586 - accuracy: 0.8454 - val_loss: 0.0381 - val_mae: 0.1681 - val_accuracy: 0.9091\n",
      "Epoch 82/100\n",
      "97/97 [==============================] - 0s 4ms/sample - loss: 0.1086 - mae: 0.2586 - accuracy: 0.8247 - val_loss: 0.0384 - val_mae: 0.1681 - val_accuracy: 0.9091\n",
      "Epoch 83/100\n",
      "97/97 [==============================] - 0s 5ms/sample - loss: 0.1085 - mae: 0.2585 - accuracy: 0.8247 - val_loss: 0.0388 - val_mae: 0.1680 - val_accuracy: 0.8182\n",
      "Epoch 84/100\n",
      "97/97 [==============================] - 0s 5ms/sample - loss: 0.1085 - mae: 0.2585 - accuracy: 0.7938 - val_loss: 0.0380 - val_mae: 0.1680 - val_accuracy: 0.9091\n",
      "Epoch 85/100\n",
      "97/97 [==============================] - 1s 7ms/sample - loss: 0.1084 - mae: 0.2585 - accuracy: 0.8247 - val_loss: 0.0382 - val_mae: 0.1680 - val_accuracy: 0.9091\n",
      "Epoch 86/100\n",
      "97/97 [==============================] - 1s 9ms/sample - loss: 0.1084 - mae: 0.2585 - accuracy: 0.8247 - val_loss: 0.0381 - val_mae: 0.1681 - val_accuracy: 0.9091\n",
      "Epoch 87/100\n",
      "97/97 [==============================] - 1s 8ms/sample - loss: 0.1084 - mae: 0.2585 - accuracy: 0.8247 - val_loss: 0.0380 - val_mae: 0.1681 - val_accuracy: 0.9091\n",
      "Epoch 88/100\n",
      "97/97 [==============================] - 1s 8ms/sample - loss: 0.1084 - mae: 0.2585 - accuracy: 0.8247 - val_loss: 0.0379 - val_mae: 0.1680 - val_accuracy: 0.9091\n",
      "Epoch 89/100\n",
      "97/97 [==============================] - 0s 5ms/sample - loss: 0.1083 - mae: 0.2584 - accuracy: 0.8351 - val_loss: 0.0379 - val_mae: 0.1680 - val_accuracy: 0.9091\n",
      "Epoch 90/100\n",
      "97/97 [==============================] - 0s 2ms/sample - loss: 0.1084 - mae: 0.2584 - accuracy: 0.8144 - val_loss: 0.0380 - val_mae: 0.1681 - val_accuracy: 0.9091\n",
      "Epoch 91/100\n",
      "97/97 [==============================] - 0s 1ms/sample - loss: 0.1084 - mae: 0.2584 - accuracy: 0.8144 - val_loss: 0.0379 - val_mae: 0.1679 - val_accuracy: 0.9091\n",
      "Epoch 92/100\n"
     ]
    },
    {
     "name": "stdout",
     "output_type": "stream",
     "text": [
      "97/97 [==============================] - 0s 800us/sample - loss: 0.1083 - mae: 0.2584 - accuracy: 0.8144 - val_loss: 0.0380 - val_mae: 0.1680 - val_accuracy: 0.9091\n",
      "Epoch 93/100\n",
      "97/97 [==============================] - 0s 1ms/sample - loss: 0.1083 - mae: 0.2584 - accuracy: 0.8144 - val_loss: 0.0382 - val_mae: 0.1683 - val_accuracy: 0.9091\n",
      "Epoch 94/100\n",
      "97/97 [==============================] - 0s 816us/sample - loss: 0.1084 - mae: 0.2585 - accuracy: 0.8247 - val_loss: 0.0379 - val_mae: 0.1679 - val_accuracy: 0.9091\n",
      "Epoch 95/100\n",
      "97/97 [==============================] - 0s 1ms/sample - loss: 0.1083 - mae: 0.2584 - accuracy: 0.8351 - val_loss: 0.0379 - val_mae: 0.1679 - val_accuracy: 0.9091\n",
      "Epoch 96/100\n",
      "97/97 [==============================] - 0s 2ms/sample - loss: 0.1083 - mae: 0.2584 - accuracy: 0.8351 - val_loss: 0.0379 - val_mae: 0.1679 - val_accuracy: 0.9091\n",
      "Epoch 97/100\n",
      "97/97 [==============================] - 0s 2ms/sample - loss: 0.1083 - mae: 0.2584 - accuracy: 0.8247 - val_loss: 0.0380 - val_mae: 0.1679 - val_accuracy: 0.9091\n",
      "Epoch 98/100\n",
      "97/97 [==============================] - 0s 2ms/sample - loss: 0.1083 - mae: 0.2584 - accuracy: 0.8144 - val_loss: 0.0381 - val_mae: 0.1679 - val_accuracy: 0.9091\n",
      "Epoch 99/100\n",
      "97/97 [==============================] - 0s 2ms/sample - loss: 0.1083 - mae: 0.2584 - accuracy: 0.8041 - val_loss: 0.0379 - val_mae: 0.1679 - val_accuracy: 0.9091\n",
      "Epoch 100/100\n",
      "97/97 [==============================] - 0s 1ms/sample - loss: 0.1083 - mae: 0.2584 - accuracy: 0.8247 - val_loss: 0.0379 - val_mae: 0.1679 - val_accuracy: 0.9091\n"
     ]
    }
   ],
   "source": [
    "autoencoder.compile(optimizer=\"rmsprop\", loss=\"mean_squared_error\", metrics=[\"mae\", \"accuracy\"])\n",
    "batch_size = 16\n",
    "epochs = 100\n",
    "history = autoencoder.fit(x_train, x_train, batch_size=batch_size, epochs=epochs, verbose=1, shuffle=True, \n",
    "                          validation_split=0.1, callbacks=[TensorBoard(log_dir='/home/ambari/anomaly_detection/{0}'.format(logfilename))])"
   ]
  },
  {
   "cell_type": "markdown",
   "metadata": {},
   "source": [
    "테스트 데이터셋에 대한 평가, 데이터 수 관련 이슈"
   ]
  },
  {
   "cell_type": "code",
   "execution_count": 28,
   "metadata": {},
   "outputs": [
    {
     "name": "stdout",
     "output_type": "stream",
     "text": [
      "27/27 [==============================] - 0s 661us/sample - loss: 0.0904 - mae: 0.2466 - accuracy: 0.8889\n",
      "Test loss: 0.090375155210495\n",
      "Test mae: 0.24662791\n",
      "Test accuracy: 0.8888889\n"
     ]
    }
   ],
   "source": [
    "score = autoencoder.evaluate(x_test, x_test, verbose=1)\n",
    "print('Test loss:', score[0])\n",
    "print('Test mae:', score[1])\n",
    "print('Test accuracy:', score[2])"
   ]
  },
  {
   "cell_type": "markdown",
   "metadata": {},
   "source": [
    "특징 데이터셋을 예측하고 실제 값과 예측 값 간 reconstruction error 계산"
   ]
  },
  {
   "cell_type": "code",
   "execution_count": 29,
   "metadata": {},
   "outputs": [
    {
     "data": {
      "text/html": [
       "<div>\n",
       "<style scoped>\n",
       "    .dataframe tbody tr th:only-of-type {\n",
       "        vertical-align: middle;\n",
       "    }\n",
       "\n",
       "    .dataframe tbody tr th {\n",
       "        vertical-align: top;\n",
       "    }\n",
       "\n",
       "    .dataframe thead th {\n",
       "        text-align: right;\n",
       "    }\n",
       "</style>\n",
       "<table border=\"1\" class=\"dataframe\">\n",
       "  <thead>\n",
       "    <tr style=\"text-align: right;\">\n",
       "      <th></th>\n",
       "      <th>LP_METER_ID</th>\n",
       "      <th>LP_DCU_ID</th>\n",
       "    </tr>\n",
       "  </thead>\n",
       "  <tbody>\n",
       "    <tr>\n",
       "      <th>2</th>\n",
       "      <td>99260000273</td>\n",
       "      <td>DCU__TG70C</td>\n",
       "    </tr>\n",
       "    <tr>\n",
       "      <th>4</th>\n",
       "      <td>99260000364</td>\n",
       "      <td>DCU_0DK242</td>\n",
       "    </tr>\n",
       "    <tr>\n",
       "      <th>6</th>\n",
       "      <td>99260000214</td>\n",
       "      <td>DCU_0TG312</td>\n",
       "    </tr>\n",
       "    <tr>\n",
       "      <th>11</th>\n",
       "      <td>99260000430</td>\n",
       "      <td>DCU_0DK242</td>\n",
       "    </tr>\n",
       "    <tr>\n",
       "      <th>29</th>\n",
       "      <td>99260000390</td>\n",
       "      <td>DCU_0DK242</td>\n",
       "    </tr>\n",
       "    <tr>\n",
       "      <th>46</th>\n",
       "      <td>99260000322</td>\n",
       "      <td>DCU_0TG312</td>\n",
       "    </tr>\n",
       "    <tr>\n",
       "      <th>63</th>\n",
       "      <td>99260000268</td>\n",
       "      <td>DCU__TG70C</td>\n",
       "    </tr>\n",
       "    <tr>\n",
       "      <th>67</th>\n",
       "      <td>99260000147</td>\n",
       "      <td>DCU_00DK94</td>\n",
       "    </tr>\n",
       "    <tr>\n",
       "      <th>73</th>\n",
       "      <td>99260000188</td>\n",
       "      <td>DCU_00DK94</td>\n",
       "    </tr>\n",
       "    <tr>\n",
       "      <th>77</th>\n",
       "      <td>99260000106</td>\n",
       "      <td>DCU_0TG312</td>\n",
       "    </tr>\n",
       "    <tr>\n",
       "      <th>80</th>\n",
       "      <td>99260000014</td>\n",
       "      <td>DCU_00DK94</td>\n",
       "    </tr>\n",
       "    <tr>\n",
       "      <th>84</th>\n",
       "      <td>99260000438</td>\n",
       "      <td>DCU__TG70C</td>\n",
       "    </tr>\n",
       "    <tr>\n",
       "      <th>87</th>\n",
       "      <td>99260000478</td>\n",
       "      <td>DCU_0DK242</td>\n",
       "    </tr>\n",
       "    <tr>\n",
       "      <th>89</th>\n",
       "      <td>99260000191</td>\n",
       "      <td>DCU_00DK94</td>\n",
       "    </tr>\n",
       "    <tr>\n",
       "      <th>90</th>\n",
       "      <td>99260000361</td>\n",
       "      <td>DCU__TG70C</td>\n",
       "    </tr>\n",
       "  </tbody>\n",
       "</table>\n",
       "</div>"
      ],
      "text/plain": [
       "    LP_METER_ID   LP_DCU_ID\n",
       "2   99260000273  DCU__TG70C\n",
       "4   99260000364  DCU_0DK242\n",
       "6   99260000214  DCU_0TG312\n",
       "11  99260000430  DCU_0DK242\n",
       "29  99260000390  DCU_0DK242\n",
       "46  99260000322  DCU_0TG312\n",
       "63  99260000268  DCU__TG70C\n",
       "67  99260000147  DCU_00DK94\n",
       "73  99260000188  DCU_00DK94\n",
       "77  99260000106  DCU_0TG312\n",
       "80  99260000014  DCU_00DK94\n",
       "84  99260000438  DCU__TG70C\n",
       "87  99260000478  DCU_0DK242\n",
       "89  99260000191  DCU_00DK94\n",
       "90  99260000361  DCU__TG70C"
      ]
     },
     "execution_count": 29,
     "metadata": {},
     "output_type": "execute_result"
    }
   ],
   "source": [
    "y_pred = autoencoder.predict(df[input_cols])\n",
    "y_dist = np.linalg.norm(df[input_cols] - y_pred, axis=-1)\n",
    "y_dist.sort()\n",
    "cut_point = int(0.89*len(y_dist))\n",
    "threshold = y_dist[cut_point]\n",
    "dist = np.linalg.norm(df[input_cols] - y_pred, axis=-1)\n",
    "\n",
    "z = zip(dist >= threshold, dist)\n",
    "y_label=[]\n",
    "error = []\n",
    "for idx, (is_anomaly, dist) in enumerate(z):\n",
    "    if is_anomaly:\n",
    "        y_label.append(1)\n",
    "    else:\n",
    "        y_label.append(0)\n",
    "    error.append(dist)\n",
    "df['label'] = y_label\n",
    "df[[\"LP_METER_ID\", \"LP_DCU_ID\"]][df['label']==1]"
   ]
  },
  {
   "cell_type": "markdown",
   "metadata": {},
   "source": [
    "재구성 에러 시각화"
   ]
  },
  {
   "cell_type": "code",
   "execution_count": 30,
   "metadata": {},
   "outputs": [
    {
     "data": {
      "image/png": "[encoded data removed]",
      "text/plain": [
       "<Figure size 864x576 with 1 Axes>"
      ]
     },
     "metadata": {
      "needs_background": "light"
     },
     "output_type": "display_data"
    }
   ],
   "source": [
    "draw_anomaly(y_label, error, threshold)"
   ]
  },
  {
   "cell_type": "markdown",
   "metadata": {},
   "source": [
    "오토인코더 기반 전력 사용 이상 미터 목록"
   ]
  },
  {
   "cell_type": "code",
   "execution_count": 31,
   "metadata": {},
   "outputs": [
    {
     "name": "stdout",
     "output_type": "stream",
     "text": [
      "전력 사용이 의심되는 미터 목록\n",
      "['99260000273', '99260000364', '99260000214', '99260000430', '99260000390', '99260000322', '99260000268', '99260000147', '99260000188', '99260000106', '99260000014', '99260000438', '99260000478', '99260000191', '99260000361']\n"
     ]
    }
   ],
   "source": [
    "anomaly = df.loc[df['label']==1]\n",
    "anomaly_index_autoencoder = list(anomaly.index)\n",
    "anomaly_id_list_autoencoder = df[\"LP_METER_ID\"].iloc[anomaly_index_autoencoder].tolist()\n",
    "print(\"전력 사용이 의심되는 미터 목록\")\n",
    "print(anomaly_id_list_autoencoder)"
   ]
  },
  {
   "cell_type": "markdown",
   "metadata": {},
   "source": [
    "DCU 별 전력 사용 이상 미터 목록"
   ]
  },
  {
   "cell_type": "code",
   "execution_count": 32,
   "metadata": {},
   "outputs": [
    {
     "name": "stdout",
     "output_type": "stream",
     "text": [
      "Index(['DCU_00DK94', 'DCU_0DK242', 'DCU_0TG312', 'DCU__TG70C'], dtype='object', name='LP_DCU_ID')\n"
     ]
    },
    {
     "data": {
      "text/plain": [
       "array([list(['99260000147', '99260000188', '99260000014', '99260000191']),\n",
       "       list(['99260000364', '99260000430', '99260000390', '99260000478']),\n",
       "       list(['99260000214', '99260000322', '99260000106']),\n",
       "       list(['99260000273', '99260000268', '99260000438', '99260000361'])],\n",
       "      dtype=object)"
      ]
     },
     "execution_count": 32,
     "metadata": {},
     "output_type": "execute_result"
    }
   ],
   "source": [
    "meter_id_per_dcu = df[[\"LP_DCU_ID\", \"LP_METER_ID\"]].iloc[anomaly_index_autoencoder].groupby(\"LP_DCU_ID\")\n",
    "print(meter_id_per_dcu[\"LP_METER_ID\"].apply(list).index)\n",
    "meter_id_per_dcu[\"LP_METER_ID\"].apply(list).values"
   ]
  },
  {
   "cell_type": "markdown",
   "metadata": {},
   "source": [
    "딥 오토인코더 데이터 시각화"
   ]
  },
  {
   "cell_type": "code",
   "execution_count": 33,
   "metadata": {},
   "outputs": [
    {
     "data": {
      "image/png": "[encoded data removed]",
      "text/plain": [
       "<Figure size 432x288 with 1 Axes>"
      ]
     },
     "metadata": {
      "needs_background": "light"
     },
     "output_type": "display_data"
    }
   ],
   "source": [
    "import matplotlib.pyplot as plt\n",
    "import matplotlib.cm as cm\n",
    "import numpy as np\n",
    "from sklearn.manifold import TSNE\n",
    "from mpl_toolkits.mplot3d import Axes3D\n",
    "\n",
    "\n",
    "tsne = TSNE(n_components=2, init=\"pca\", random_state=0)\n",
    "df_reduce = tsne.fit_transform(df[input_cols])\n",
    "\n",
    "# 정상 데이터 포인트 플롯 \n",
    "plt.scatter(df_reduce[:, 0], df_reduce[:, 1], marker='.', s=30, lw=0, alpha=0.6, c=\"black\", edgecolor='k', label=\"normal\")\n",
    "\n",
    "# 이상 데이터 포인트 플롯\n",
    "plt.scatter(df_reduce[anomaly_index_autoencoder, 0], df_reduce[anomaly_index_autoencoder, 1], marker='^', s=50, lw=0, alpha=1, c=\"red\", edgecolor='k', label=\"anomalies\")\n",
    "\n",
    "plt.title(\"The visualization of the clustered data with anomalies\")\n",
    "plt.xlabel(\"Feature space for the 1st embedded feature\")\n",
    "plt.ylabel(\"Feature space for the 2nd embedded feature\")\n",
    "plt.legend()\n",
    "plt.show()"
   ]
  },
  {
   "cell_type": "markdown",
   "metadata": {},
   "source": [
    "딥 오토인코더 분류 결과표"
   ]
  },
  {
   "cell_type": "code",
   "execution_count": 34,
   "metadata": {},
   "outputs": [
    {
     "data": {
      "image/png": "[encoded data removed]",
      "text/plain": [
       "<Figure size 720x576 with 2 Axes>"
      ]
     },
     "metadata": {
      "needs_background": "light"
     },
     "output_type": "display_data"
    }
   ],
   "source": [
    "draw_confusion_matrix(df[\"anomalies\"], df[\"label\"])"
   ]
  },
  {
   "cell_type": "markdown",
   "metadata": {},
   "source": [
    "딥 오토인코더 신경망의 평가 점수 - 탐지율 80%"
   ]
  },
  {
   "cell_type": "code",
   "execution_count": 35,
   "metadata": {},
   "outputs": [
    {
     "name": "stdout",
     "output_type": "stream",
     "text": [
      "              precision    recall  f1-score   support\n",
      "\n",
      "           0       0.97      0.97      0.97       120\n",
      "           1       0.80      0.80      0.80        15\n",
      "\n",
      "    accuracy                           0.96       135\n",
      "   macro avg       0.89      0.89      0.89       135\n",
      "weighted avg       0.96      0.96      0.96       135\n",
      "\n"
     ]
    }
   ],
   "source": [
    "print(classification_report(df[\"anomalies\"], df[\"label\"]))"
   ]
  },
  {
   "cell_type": "markdown",
   "metadata": {},
   "source": [
    "ROC_AUC 스코어"
   ]
  },
  {
   "cell_type": "code",
   "execution_count": 36,
   "metadata": {},
   "outputs": [
    {
     "name": "stdout",
     "output_type": "stream",
     "text": [
      "0.8875\n"
     ]
    }
   ],
   "source": [
    "print(roc_auc_score(df[\"anomalies\"], df[\"label\"]))"
   ]
  },
  {
   "cell_type": "code",
   "execution_count": null,
   "metadata": {},
   "outputs": [],
   "source": [
    "LSTMAutoEncoder, CnnLSTMAutoEncoder\n",
    "LstmAutoEncoder 적용을 위해 특징 데이터셋에서 DCU ID 라벨 제외\n",
    "STM 적용을 위한 (N_samples, time_steps, n_features)로 reshape. 여기서 n_features=1"
   ]
  },
  {
   "cell_type": "code",
   "execution_count": 37,
   "metadata": {},
   "outputs": [],
   "source": [
    "# 특징 데이터셋과 범주형 컬럼 특징 처리 - 동일\n",
    "from pyspark.sql import SparkSession\n",
    "from pyspark.sql import functions as Fn\n",
    "from pyspark.sql.functions import when, col\n",
    "\n",
    "spark = SparkSession.builder.getOrCreate()\n",
    "\n",
    "data = spark.read.orc(\"hdfs://nameserver/apps/spark/warehouse/cs_daily_features\")\n",
    "df = data.toPandas()\n",
    "\n",
    "from sklearn.preprocessing import LabelEncoder, OneHotEncoder, StandardScaler, MinMaxScaler\n",
    "\n",
    "# 학습 입력 컬럼\n",
    "input_cols = df.columns[2:].tolist()\n",
    "dcu_cols = df.columns[1]\n",
    "\n",
    "# 데이터 정규화\n",
    "scaler = MinMaxScaler()\n",
    "scaler.fit(df[input_cols])\n",
    "df[input_cols]= scaler.transform(df[input_cols])"
   ]
  },
  {
   "cell_type": "code",
   "execution_count": 38,
   "metadata": {},
   "outputs": [
    {
     "name": "stdout",
     "output_type": "stream",
     "text": [
      "135\n",
      "(135, 243)\n",
      "135\n",
      "(135, 241)\n"
     ]
    },
    {
     "data": {
      "text/html": [
       "<div>\n",
       "<style scoped>\n",
       "    .dataframe tbody tr th:only-of-type {\n",
       "        vertical-align: middle;\n",
       "    }\n",
       "\n",
       "    .dataframe tbody tr th {\n",
       "        vertical-align: top;\n",
       "    }\n",
       "\n",
       "    .dataframe thead th {\n",
       "        text-align: right;\n",
       "    }\n",
       "</style>\n",
       "<table border=\"1\" class=\"dataframe\">\n",
       "  <thead>\n",
       "    <tr style=\"text-align: right;\">\n",
       "      <th></th>\n",
       "      <th>daily_20191206</th>\n",
       "      <th>daily_20191207</th>\n",
       "      <th>daily_20191208</th>\n",
       "      <th>daily_20191209</th>\n",
       "      <th>daily_20191210</th>\n",
       "      <th>daily_20191211</th>\n",
       "      <th>daily_20191212</th>\n",
       "      <th>daily_20191213</th>\n",
       "      <th>daily_20191214</th>\n",
       "      <th>daily_20191215</th>\n",
       "      <th>...</th>\n",
       "      <th>daily_20200724</th>\n",
       "      <th>daily_20200725</th>\n",
       "      <th>daily_20200726</th>\n",
       "      <th>daily_20200727</th>\n",
       "      <th>daily_20200728</th>\n",
       "      <th>daily_20200729</th>\n",
       "      <th>daily_20200730</th>\n",
       "      <th>daily_20200731</th>\n",
       "      <th>daily_20200801</th>\n",
       "      <th>daily_20200802</th>\n",
       "    </tr>\n",
       "  </thead>\n",
       "  <tbody>\n",
       "    <tr>\n",
       "      <th>0</th>\n",
       "      <td>0.173581</td>\n",
       "      <td>0.180371</td>\n",
       "      <td>0.229221</td>\n",
       "      <td>0.146944</td>\n",
       "      <td>0.223702</td>\n",
       "      <td>0.137285</td>\n",
       "      <td>0.090034</td>\n",
       "      <td>0.111764</td>\n",
       "      <td>0.212828</td>\n",
       "      <td>0.153309</td>\n",
       "      <td>...</td>\n",
       "      <td>0.256542</td>\n",
       "      <td>0.213749</td>\n",
       "      <td>0.276368</td>\n",
       "      <td>0.173305</td>\n",
       "      <td>0.233952</td>\n",
       "      <td>0.218244</td>\n",
       "      <td>0.246787</td>\n",
       "      <td>0.237103</td>\n",
       "      <td>0.231824</td>\n",
       "      <td>0.233857</td>\n",
       "    </tr>\n",
       "    <tr>\n",
       "      <th>1</th>\n",
       "      <td>0.320483</td>\n",
       "      <td>0.335652</td>\n",
       "      <td>0.331445</td>\n",
       "      <td>0.287414</td>\n",
       "      <td>0.345113</td>\n",
       "      <td>0.319003</td>\n",
       "      <td>0.350987</td>\n",
       "      <td>0.287922</td>\n",
       "      <td>0.328212</td>\n",
       "      <td>0.262786</td>\n",
       "      <td>...</td>\n",
       "      <td>0.292801</td>\n",
       "      <td>0.240570</td>\n",
       "      <td>0.305093</td>\n",
       "      <td>0.234544</td>\n",
       "      <td>0.262072</td>\n",
       "      <td>0.304490</td>\n",
       "      <td>0.329963</td>\n",
       "      <td>0.300830</td>\n",
       "      <td>0.308897</td>\n",
       "      <td>0.287858</td>\n",
       "    </tr>\n",
       "    <tr>\n",
       "      <th>2</th>\n",
       "      <td>0.479176</td>\n",
       "      <td>0.414791</td>\n",
       "      <td>0.389342</td>\n",
       "      <td>0.429026</td>\n",
       "      <td>0.464931</td>\n",
       "      <td>0.422391</td>\n",
       "      <td>0.397020</td>\n",
       "      <td>0.390728</td>\n",
       "      <td>0.413903</td>\n",
       "      <td>0.375034</td>\n",
       "      <td>...</td>\n",
       "      <td>0.593283</td>\n",
       "      <td>0.606125</td>\n",
       "      <td>0.628525</td>\n",
       "      <td>0.540157</td>\n",
       "      <td>0.638810</td>\n",
       "      <td>0.658548</td>\n",
       "      <td>0.687276</td>\n",
       "      <td>0.616764</td>\n",
       "      <td>0.600411</td>\n",
       "      <td>0.602426</td>\n",
       "    </tr>\n",
       "    <tr>\n",
       "      <th>3</th>\n",
       "      <td>0.089880</td>\n",
       "      <td>0.096254</td>\n",
       "      <td>0.111748</td>\n",
       "      <td>0.079158</td>\n",
       "      <td>0.091936</td>\n",
       "      <td>0.082466</td>\n",
       "      <td>0.083314</td>\n",
       "      <td>0.067893</td>\n",
       "      <td>0.101022</td>\n",
       "      <td>0.064544</td>\n",
       "      <td>...</td>\n",
       "      <td>0.006450</td>\n",
       "      <td>0.008589</td>\n",
       "      <td>0.013033</td>\n",
       "      <td>0.010010</td>\n",
       "      <td>0.011336</td>\n",
       "      <td>0.012359</td>\n",
       "      <td>0.013285</td>\n",
       "      <td>0.012307</td>\n",
       "      <td>0.012674</td>\n",
       "      <td>0.012318</td>\n",
       "    </tr>\n",
       "    <tr>\n",
       "      <th>4</th>\n",
       "      <td>0.453261</td>\n",
       "      <td>0.456337</td>\n",
       "      <td>0.449955</td>\n",
       "      <td>0.420141</td>\n",
       "      <td>0.379675</td>\n",
       "      <td>0.345034</td>\n",
       "      <td>0.447955</td>\n",
       "      <td>0.360674</td>\n",
       "      <td>0.468259</td>\n",
       "      <td>0.376395</td>\n",
       "      <td>...</td>\n",
       "      <td>0.636525</td>\n",
       "      <td>0.518455</td>\n",
       "      <td>0.567405</td>\n",
       "      <td>0.429091</td>\n",
       "      <td>0.520532</td>\n",
       "      <td>0.560587</td>\n",
       "      <td>0.609268</td>\n",
       "      <td>0.593026</td>\n",
       "      <td>0.641269</td>\n",
       "      <td>0.576248</td>\n",
       "    </tr>\n",
       "  </tbody>\n",
       "</table>\n",
       "<p>5 rows × 241 columns</p>\n",
       "</div>"
      ],
      "text/plain": [
       "   daily_20191206  daily_20191207  daily_20191208  daily_20191209  \\\n",
       "0        0.173581        0.180371        0.229221        0.146944   \n",
       "1        0.320483        0.335652        0.331445        0.287414   \n",
       "2        0.479176        0.414791        0.389342        0.429026   \n",
       "3        0.089880        0.096254        0.111748        0.079158   \n",
       "4        0.453261        0.456337        0.449955        0.420141   \n",
       "\n",
       "   daily_20191210  daily_20191211  daily_20191212  daily_20191213  \\\n",
       "0        0.223702        0.137285        0.090034        0.111764   \n",
       "1        0.345113        0.319003        0.350987        0.287922   \n",
       "2        0.464931        0.422391        0.397020        0.390728   \n",
       "3        0.091936        0.082466        0.083314        0.067893   \n",
       "4        0.379675        0.345034        0.447955        0.360674   \n",
       "\n",
       "   daily_20191214  daily_20191215  ...  daily_20200724  daily_20200725  \\\n",
       "0        0.212828        0.153309  ...        0.256542        0.213749   \n",
       "1        0.328212        0.262786  ...        0.292801        0.240570   \n",
       "2        0.413903        0.375034  ...        0.593283        0.606125   \n",
       "3        0.101022        0.064544  ...        0.006450        0.008589   \n",
       "4        0.468259        0.376395  ...        0.636525        0.518455   \n",
       "\n",
       "   daily_20200726  daily_20200727  daily_20200728  daily_20200729  \\\n",
       "0        0.276368        0.173305        0.233952        0.218244   \n",
       "1        0.305093        0.234544        0.262072        0.304490   \n",
       "2        0.628525        0.540157        0.638810        0.658548   \n",
       "3        0.013033        0.010010        0.011336        0.012359   \n",
       "4        0.567405        0.429091        0.520532        0.560587   \n",
       "\n",
       "   daily_20200730  daily_20200731  daily_20200801  daily_20200802  \n",
       "0        0.246787        0.237103        0.231824        0.233857  \n",
       "1        0.329963        0.300830        0.308897        0.287858  \n",
       "2        0.687276        0.616764        0.600411        0.602426  \n",
       "3        0.013285        0.012307        0.012674        0.012318  \n",
       "4        0.609268        0.593026        0.641269        0.576248  \n",
       "\n",
       "[5 rows x 241 columns]"
      ]
     },
     "execution_count": 38,
     "metadata": {},
     "output_type": "execute_result"
    }
   ],
   "source": [
    "print(df.shape[0])\n",
    "print(df.shape)\n",
    "print(df[input_cols].shape[0])\n",
    "print(df[input_cols].shape)\n",
    "df[input_cols].head()"
   ]
  },
  {
   "cell_type": "code",
   "execution_count": 39,
   "metadata": {},
   "outputs": [
    {
     "data": {
      "text/plain": [
       "(135, 241, 1)"
      ]
     },
     "execution_count": 39,
     "metadata": {},
     "output_type": "execute_result"
    }
   ],
   "source": [
    "df_numeric = df[input_cols]\n",
    "df_numeric.head()\n",
    "ts_df = np.expand_dims(df_numeric, axis=2)\n",
    "ts_df.shape"
   ]
  },
  {
   "cell_type": "code",
   "execution_count": 40,
   "metadata": {},
   "outputs": [
    {
     "name": "stdout",
     "output_type": "stream",
     "text": [
      "(108, 241, 1) train samples\n",
      "(27, 241, 1) test samples\n"
     ]
    }
   ],
   "source": [
    "# LSTM을 적용하기에는 데이터 수가 부족 (num_rows), 실제 적용하지는 않음\n",
    "x_train, x_test = train_test_split(ts_df, test_size=0.2, random_state=42)\n",
    "print(x_train.shape, 'train samples')\n",
    "print(x_test.shape, 'test samples')"
   ]
  },
  {
   "cell_type": "code",
   "execution_count": 43,
   "metadata": {},
   "outputs": [
    {
     "name": "stdout",
     "output_type": "stream",
     "text": [
      "Model: \"sequential_1\"\n",
      "_________________________________________________________________\n",
      "Layer (type)                 Output Shape              Param #   \n",
      "=================================================================\n",
      "conv1d_1 (Conv1D)            (None, 241, 256)          1536      \n",
      "_________________________________________________________________\n",
      "max_pooling1d (MaxPooling1D) (None, 60, 256)           0         \n",
      "_________________________________________________________________\n",
      "lstm_3 (LSTM)                (None, 64)                82176     \n",
      "_________________________________________________________________\n",
      "dense_8 (Dense)              (None, 241)               15665     \n",
      "=================================================================\n",
      "Total params: 99,377\n",
      "Trainable params: 99,377\n",
      "Non-trainable params: 0\n",
      "_________________________________________________________________\n",
      "None\n"
     ]
    }
   ],
   "source": [
    "from tensorflow.keras.layers import Conv1D, GlobalMaxPool1D, Dense, Flatten, MaxPooling1D\n",
    "\n",
    "time_steps = df_numeric.shape[1]\n",
    "\n",
    "# LstmAutoEncoder\n",
    "# 241 features를 128, 64 및 32 units의 lstm 적용 후 241 /2, 241 dim으로 역순으로 복원\n",
    "#model = Sequential()\n",
    "#model.add(LSTM(units=128, input_shape=(time_steps,1), return_sequences=True))\n",
    "#model.add(LSTM(units=64,return_sequences=True ))\n",
    "#model.add(LSTM(units=32, return_sequences=False))\n",
    "#model.add(Dense(units=time_steps // 2, activation='relu'))\n",
    "#model.add(Dense(units=time_steps, activation='softmax'))\n",
    "\n",
    "# CnnLSTMAutoEncoder, 병렬 연산 측면에서 Lstm AutoEncoder 대안\n",
    "model = Sequential()\n",
    "model.add(Conv1D(filters=256, kernel_size=5, padding='same', activation='relu',input_shape=(time_steps, 1)))\n",
    "model.add(MaxPooling1D(pool_size=4))\n",
    "model.add(LSTM(64))\n",
    "model.add(Dense(units=time_steps, activation='softmax')) \n",
    "\n",
    "model.compile(optimizer='rmsprop', loss='mean_absolute_error', metrics=[\"mae\", \"accuracy\"])\n",
    "print(model.summary())"
   ]
  },
  {
   "cell_type": "code",
   "execution_count": null,
   "metadata": {},
   "outputs": [],
   "source": [
    "logfilename = \"lstmautoencoder\"\n",
    "batch_size = 8\n",
    "epochs = 20 #\n",
    "\n",
    "history = model.fit(ts_df, df_numeric, batch_size=batch_size, epochs=epochs, verbose=1, shuffle=False, validation_split=0.2,\\\n",
    "                callbacks=[TensorBoard(log_dir='/home/ambari/anomaly_detection/{0}'.format(logfilename))])"
   ]
  }
 ],
 "metadata": {
  "kernelspec": {
   "display_name": "Python 3",
   "language": "python",
   "name": "python3"
  },
  "language_info": {
   "codemirror_mode": {
    "name": "ipython",
    "version": 3
   },
   "file_extension": ".py",
   "mimetype": "text/x-python",
   "name": "python",
   "nbconvert_exporter": "python",
   "pygments_lexer": "ipython3",
   "version": "3.7.6"
  }
 },
 "nbformat": 4,
 "nbformat_minor": 4
}
